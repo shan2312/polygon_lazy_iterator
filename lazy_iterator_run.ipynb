{
  "nbformat": 4,
  "nbformat_minor": 0,
  "metadata": {
    "colab": {
      "provenance": [],
      "authorship_tag": "ABX9TyMnmywso9QaOvU74ZLxcnHx",
      "include_colab_link": true
    },
    "kernelspec": {
      "name": "python3",
      "display_name": "Python 3"
    },
    "language_info": {
      "name": "python"
    }
  },
  "cells": [
    {
      "cell_type": "markdown",
      "metadata": {
        "id": "view-in-github",
        "colab_type": "text"
      },
      "source": [
        "<a href=\"https://colab.research.google.com/github/shan2312/polygon_lazy_iterator/blob/main/lazy_iterator_run.ipynb\" target=\"_parent\"><img src=\"https://colab.research.google.com/assets/colab-badge.svg\" alt=\"Open In Colab\"/></a>"
      ]
    },
    {
      "cell_type": "code",
      "execution_count": 8,
      "metadata": {
        "id": "LQKnEnDSDh5B"
      },
      "outputs": [],
      "source": [
        "from polygon_lazy_iterator import Polygon, Polygons"
      ]
    },
    {
      "cell_type": "code",
      "source": [
        "p = Polygon(5, 10)"
      ],
      "metadata": {
        "id": "xjoM3_YgDyON"
      },
      "execution_count": 9,
      "outputs": []
    },
    {
      "cell_type": "code",
      "source": [
        "p.apothem"
      ],
      "metadata": {
        "colab": {
          "base_uri": "https://localhost:8080/"
        },
        "id": "XsdFSOkmEFM5",
        "outputId": "934b5038-95b6-4dde-c240-9127e1cf147b"
      },
      "execution_count": 10,
      "outputs": [
        {
          "output_type": "stream",
          "name": "stdout",
          "text": [
            "calculated apothem\n"
          ]
        },
        {
          "output_type": "execute_result",
          "data": {
            "text/plain": [
              "8.090169943749475"
            ]
          },
          "metadata": {},
          "execution_count": 10
        }
      ]
    },
    {
      "cell_type": "code",
      "source": [
        "p.apothem"
      ],
      "metadata": {
        "colab": {
          "base_uri": "https://localhost:8080/"
        },
        "id": "K66ntCTTEsns",
        "outputId": "b770e6c0-5661-43b1-d78b-39980cea3acd"
      },
      "execution_count": 11,
      "outputs": [
        {
          "output_type": "execute_result",
          "data": {
            "text/plain": [
              "8.090169943749475"
            ]
          },
          "metadata": {},
          "execution_count": 11
        }
      ]
    },
    {
      "cell_type": "code",
      "source": [
        "p.circumradius = 15"
      ],
      "metadata": {
        "id": "B5WAlVkXEK3F"
      },
      "execution_count": 12,
      "outputs": []
    },
    {
      "cell_type": "code",
      "source": [
        "p.apothem"
      ],
      "metadata": {
        "colab": {
          "base_uri": "https://localhost:8080/"
        },
        "id": "U0FMxG79ENdy",
        "outputId": "3a100b73-50bd-42e5-f935-fa8a8c7fa8b0"
      },
      "execution_count": 13,
      "outputs": [
        {
          "output_type": "stream",
          "name": "stdout",
          "text": [
            "calculated apothem\n"
          ]
        },
        {
          "output_type": "execute_result",
          "data": {
            "text/plain": [
              "12.135254915624213"
            ]
          },
          "metadata": {},
          "execution_count": 13
        }
      ]
    },
    {
      "cell_type": "code",
      "source": [
        "p.apothem"
      ],
      "metadata": {
        "colab": {
          "base_uri": "https://localhost:8080/"
        },
        "id": "KRnFz9XmEOaK",
        "outputId": "69ffd9a5-be47-4100-eb04-b35595498441"
      },
      "execution_count": 14,
      "outputs": [
        {
          "output_type": "execute_result",
          "data": {
            "text/plain": [
              "12.135254915624213"
            ]
          },
          "metadata": {},
          "execution_count": 14
        }
      ]
    },
    {
      "cell_type": "code",
      "source": [
        "polygons = Polygons(10, 10)"
      ],
      "metadata": {
        "id": "Q4f1InSjElXd"
      },
      "execution_count": 15,
      "outputs": []
    },
    {
      "cell_type": "code",
      "source": [
        "for polygon in polygons:\n",
        "  print(polygon)"
      ],
      "metadata": {
        "colab": {
          "base_uri": "https://localhost:8080/"
        },
        "id": "5siK3QnzEqUJ",
        "outputId": "ffeda6a2-279c-49aa-951a-2fb363aa8c72"
      },
      "execution_count": 16,
      "outputs": [
        {
          "output_type": "stream",
          "name": "stdout",
          "text": [
            "Polygon(n=3, R=10)\n",
            "Polygon(n=4, R=10)\n",
            "Polygon(n=5, R=10)\n",
            "Polygon(n=6, R=10)\n",
            "Polygon(n=7, R=10)\n",
            "Polygon(n=8, R=10)\n",
            "Polygon(n=9, R=10)\n",
            "Polygon(n=10, R=10)\n"
          ]
        }
      ]
    },
    {
      "cell_type": "code",
      "source": [],
      "metadata": {
        "id": "JLuYobBQE2Cv"
      },
      "execution_count": null,
      "outputs": []
    }
  ]
}